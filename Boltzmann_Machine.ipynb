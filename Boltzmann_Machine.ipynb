{
 "cells": [
  {
   "cell_type": "code",
   "execution_count": null,
   "id": "e1f86cce",
   "metadata": {},
   "outputs": [],
   "source": [
    "# Importing the libraries"
   ]
  },
  {
   "cell_type": "code",
   "execution_count": 1,
   "id": "93d9659c",
   "metadata": {},
   "outputs": [],
   "source": [
    "import numpy as np\n",
    "import pandas as pd\n",
    "import torch\n",
    "import torch.nn as nn\n",
    "import torch.nn.parallel\n",
    "import torch.optim as optim\n",
    "import torch.utils.data\n",
    "from torch.autograd import Variable"
   ]
  },
  {
   "cell_type": "code",
   "execution_count": null,
   "id": "d3b025f7",
   "metadata": {},
   "outputs": [],
   "source": [
    "# Importing the dataset"
   ]
  },
  {
   "cell_type": "code",
   "execution_count": 2,
   "id": "a2997144",
   "metadata": {},
   "outputs": [],
   "source": [
    "movies = pd.read_csv('ml-1m/movies.dat', sep = '::', header = None, engine = 'python', encoding = 'latin-1')\n",
    "users = pd.read_csv('ml-1m/users.dat', sep = '::', header = None, engine = 'python', encoding = 'latin-1')\n",
    "ratings = pd.read_csv('ml-1m/ratings.dat', sep = '::', header = None, engine = 'python', encoding = 'latin-1')"
   ]
  },
  {
   "cell_type": "code",
   "execution_count": 3,
   "id": "b3d08ae7",
   "metadata": {},
   "outputs": [
    {
     "data": {
      "text/html": [
       "<div>\n",
       "<style scoped>\n",
       "    .dataframe tbody tr th:only-of-type {\n",
       "        vertical-align: middle;\n",
       "    }\n",
       "\n",
       "    .dataframe tbody tr th {\n",
       "        vertical-align: top;\n",
       "    }\n",
       "\n",
       "    .dataframe thead th {\n",
       "        text-align: right;\n",
       "    }\n",
       "</style>\n",
       "<table border=\"1\" class=\"dataframe\">\n",
       "  <thead>\n",
       "    <tr style=\"text-align: right;\">\n",
       "      <th></th>\n",
       "      <th>0</th>\n",
       "      <th>1</th>\n",
       "      <th>2</th>\n",
       "    </tr>\n",
       "  </thead>\n",
       "  <tbody>\n",
       "    <tr>\n",
       "      <th>0</th>\n",
       "      <td>1</td>\n",
       "      <td>Toy Story (1995)</td>\n",
       "      <td>Animation|Children's|Comedy</td>\n",
       "    </tr>\n",
       "    <tr>\n",
       "      <th>1</th>\n",
       "      <td>2</td>\n",
       "      <td>Jumanji (1995)</td>\n",
       "      <td>Adventure|Children's|Fantasy</td>\n",
       "    </tr>\n",
       "    <tr>\n",
       "      <th>2</th>\n",
       "      <td>3</td>\n",
       "      <td>Grumpier Old Men (1995)</td>\n",
       "      <td>Comedy|Romance</td>\n",
       "    </tr>\n",
       "    <tr>\n",
       "      <th>3</th>\n",
       "      <td>4</td>\n",
       "      <td>Waiting to Exhale (1995)</td>\n",
       "      <td>Comedy|Drama</td>\n",
       "    </tr>\n",
       "    <tr>\n",
       "      <th>4</th>\n",
       "      <td>5</td>\n",
       "      <td>Father of the Bride Part II (1995)</td>\n",
       "      <td>Comedy</td>\n",
       "    </tr>\n",
       "    <tr>\n",
       "      <th>...</th>\n",
       "      <td>...</td>\n",
       "      <td>...</td>\n",
       "      <td>...</td>\n",
       "    </tr>\n",
       "    <tr>\n",
       "      <th>3878</th>\n",
       "      <td>3948</td>\n",
       "      <td>Meet the Parents (2000)</td>\n",
       "      <td>Comedy</td>\n",
       "    </tr>\n",
       "    <tr>\n",
       "      <th>3879</th>\n",
       "      <td>3949</td>\n",
       "      <td>Requiem for a Dream (2000)</td>\n",
       "      <td>Drama</td>\n",
       "    </tr>\n",
       "    <tr>\n",
       "      <th>3880</th>\n",
       "      <td>3950</td>\n",
       "      <td>Tigerland (2000)</td>\n",
       "      <td>Drama</td>\n",
       "    </tr>\n",
       "    <tr>\n",
       "      <th>3881</th>\n",
       "      <td>3951</td>\n",
       "      <td>Two Family House (2000)</td>\n",
       "      <td>Drama</td>\n",
       "    </tr>\n",
       "    <tr>\n",
       "      <th>3882</th>\n",
       "      <td>3952</td>\n",
       "      <td>Contender, The (2000)</td>\n",
       "      <td>Drama|Thriller</td>\n",
       "    </tr>\n",
       "  </tbody>\n",
       "</table>\n",
       "<p>3883 rows × 3 columns</p>\n",
       "</div>"
      ],
      "text/plain": [
       "         0                                   1                             2\n",
       "0        1                    Toy Story (1995)   Animation|Children's|Comedy\n",
       "1        2                      Jumanji (1995)  Adventure|Children's|Fantasy\n",
       "2        3             Grumpier Old Men (1995)                Comedy|Romance\n",
       "3        4            Waiting to Exhale (1995)                  Comedy|Drama\n",
       "4        5  Father of the Bride Part II (1995)                        Comedy\n",
       "...    ...                                 ...                           ...\n",
       "3878  3948             Meet the Parents (2000)                        Comedy\n",
       "3879  3949          Requiem for a Dream (2000)                         Drama\n",
       "3880  3950                    Tigerland (2000)                         Drama\n",
       "3881  3951             Two Family House (2000)                         Drama\n",
       "3882  3952               Contender, The (2000)                Drama|Thriller\n",
       "\n",
       "[3883 rows x 3 columns]"
      ]
     },
     "execution_count": 3,
     "metadata": {},
     "output_type": "execute_result"
    }
   ],
   "source": [
    "movies"
   ]
  },
  {
   "cell_type": "code",
   "execution_count": 4,
   "id": "cb72e538",
   "metadata": {},
   "outputs": [
    {
     "data": {
      "text/html": [
       "<div>\n",
       "<style scoped>\n",
       "    .dataframe tbody tr th:only-of-type {\n",
       "        vertical-align: middle;\n",
       "    }\n",
       "\n",
       "    .dataframe tbody tr th {\n",
       "        vertical-align: top;\n",
       "    }\n",
       "\n",
       "    .dataframe thead th {\n",
       "        text-align: right;\n",
       "    }\n",
       "</style>\n",
       "<table border=\"1\" class=\"dataframe\">\n",
       "  <thead>\n",
       "    <tr style=\"text-align: right;\">\n",
       "      <th></th>\n",
       "      <th>0</th>\n",
       "      <th>1</th>\n",
       "      <th>2</th>\n",
       "      <th>3</th>\n",
       "      <th>4</th>\n",
       "    </tr>\n",
       "  </thead>\n",
       "  <tbody>\n",
       "    <tr>\n",
       "      <th>0</th>\n",
       "      <td>1</td>\n",
       "      <td>F</td>\n",
       "      <td>1</td>\n",
       "      <td>10</td>\n",
       "      <td>48067</td>\n",
       "    </tr>\n",
       "    <tr>\n",
       "      <th>1</th>\n",
       "      <td>2</td>\n",
       "      <td>M</td>\n",
       "      <td>56</td>\n",
       "      <td>16</td>\n",
       "      <td>70072</td>\n",
       "    </tr>\n",
       "    <tr>\n",
       "      <th>2</th>\n",
       "      <td>3</td>\n",
       "      <td>M</td>\n",
       "      <td>25</td>\n",
       "      <td>15</td>\n",
       "      <td>55117</td>\n",
       "    </tr>\n",
       "    <tr>\n",
       "      <th>3</th>\n",
       "      <td>4</td>\n",
       "      <td>M</td>\n",
       "      <td>45</td>\n",
       "      <td>7</td>\n",
       "      <td>02460</td>\n",
       "    </tr>\n",
       "    <tr>\n",
       "      <th>4</th>\n",
       "      <td>5</td>\n",
       "      <td>M</td>\n",
       "      <td>25</td>\n",
       "      <td>20</td>\n",
       "      <td>55455</td>\n",
       "    </tr>\n",
       "    <tr>\n",
       "      <th>...</th>\n",
       "      <td>...</td>\n",
       "      <td>...</td>\n",
       "      <td>...</td>\n",
       "      <td>...</td>\n",
       "      <td>...</td>\n",
       "    </tr>\n",
       "    <tr>\n",
       "      <th>6035</th>\n",
       "      <td>6036</td>\n",
       "      <td>F</td>\n",
       "      <td>25</td>\n",
       "      <td>15</td>\n",
       "      <td>32603</td>\n",
       "    </tr>\n",
       "    <tr>\n",
       "      <th>6036</th>\n",
       "      <td>6037</td>\n",
       "      <td>F</td>\n",
       "      <td>45</td>\n",
       "      <td>1</td>\n",
       "      <td>76006</td>\n",
       "    </tr>\n",
       "    <tr>\n",
       "      <th>6037</th>\n",
       "      <td>6038</td>\n",
       "      <td>F</td>\n",
       "      <td>56</td>\n",
       "      <td>1</td>\n",
       "      <td>14706</td>\n",
       "    </tr>\n",
       "    <tr>\n",
       "      <th>6038</th>\n",
       "      <td>6039</td>\n",
       "      <td>F</td>\n",
       "      <td>45</td>\n",
       "      <td>0</td>\n",
       "      <td>01060</td>\n",
       "    </tr>\n",
       "    <tr>\n",
       "      <th>6039</th>\n",
       "      <td>6040</td>\n",
       "      <td>M</td>\n",
       "      <td>25</td>\n",
       "      <td>6</td>\n",
       "      <td>11106</td>\n",
       "    </tr>\n",
       "  </tbody>\n",
       "</table>\n",
       "<p>6040 rows × 5 columns</p>\n",
       "</div>"
      ],
      "text/plain": [
       "         0  1   2   3      4\n",
       "0        1  F   1  10  48067\n",
       "1        2  M  56  16  70072\n",
       "2        3  M  25  15  55117\n",
       "3        4  M  45   7  02460\n",
       "4        5  M  25  20  55455\n",
       "...    ... ..  ..  ..    ...\n",
       "6035  6036  F  25  15  32603\n",
       "6036  6037  F  45   1  76006\n",
       "6037  6038  F  56   1  14706\n",
       "6038  6039  F  45   0  01060\n",
       "6039  6040  M  25   6  11106\n",
       "\n",
       "[6040 rows x 5 columns]"
      ]
     },
     "execution_count": 4,
     "metadata": {},
     "output_type": "execute_result"
    }
   ],
   "source": [
    "users"
   ]
  },
  {
   "cell_type": "code",
   "execution_count": 5,
   "id": "01e22f42",
   "metadata": {},
   "outputs": [
    {
     "data": {
      "text/html": [
       "<div>\n",
       "<style scoped>\n",
       "    .dataframe tbody tr th:only-of-type {\n",
       "        vertical-align: middle;\n",
       "    }\n",
       "\n",
       "    .dataframe tbody tr th {\n",
       "        vertical-align: top;\n",
       "    }\n",
       "\n",
       "    .dataframe thead th {\n",
       "        text-align: right;\n",
       "    }\n",
       "</style>\n",
       "<table border=\"1\" class=\"dataframe\">\n",
       "  <thead>\n",
       "    <tr style=\"text-align: right;\">\n",
       "      <th></th>\n",
       "      <th>0</th>\n",
       "      <th>1</th>\n",
       "      <th>2</th>\n",
       "      <th>3</th>\n",
       "    </tr>\n",
       "  </thead>\n",
       "  <tbody>\n",
       "    <tr>\n",
       "      <th>0</th>\n",
       "      <td>1</td>\n",
       "      <td>1193</td>\n",
       "      <td>5</td>\n",
       "      <td>978300760</td>\n",
       "    </tr>\n",
       "    <tr>\n",
       "      <th>1</th>\n",
       "      <td>1</td>\n",
       "      <td>661</td>\n",
       "      <td>3</td>\n",
       "      <td>978302109</td>\n",
       "    </tr>\n",
       "    <tr>\n",
       "      <th>2</th>\n",
       "      <td>1</td>\n",
       "      <td>914</td>\n",
       "      <td>3</td>\n",
       "      <td>978301968</td>\n",
       "    </tr>\n",
       "    <tr>\n",
       "      <th>3</th>\n",
       "      <td>1</td>\n",
       "      <td>3408</td>\n",
       "      <td>4</td>\n",
       "      <td>978300275</td>\n",
       "    </tr>\n",
       "    <tr>\n",
       "      <th>4</th>\n",
       "      <td>1</td>\n",
       "      <td>2355</td>\n",
       "      <td>5</td>\n",
       "      <td>978824291</td>\n",
       "    </tr>\n",
       "    <tr>\n",
       "      <th>...</th>\n",
       "      <td>...</td>\n",
       "      <td>...</td>\n",
       "      <td>...</td>\n",
       "      <td>...</td>\n",
       "    </tr>\n",
       "    <tr>\n",
       "      <th>1000204</th>\n",
       "      <td>6040</td>\n",
       "      <td>1091</td>\n",
       "      <td>1</td>\n",
       "      <td>956716541</td>\n",
       "    </tr>\n",
       "    <tr>\n",
       "      <th>1000205</th>\n",
       "      <td>6040</td>\n",
       "      <td>1094</td>\n",
       "      <td>5</td>\n",
       "      <td>956704887</td>\n",
       "    </tr>\n",
       "    <tr>\n",
       "      <th>1000206</th>\n",
       "      <td>6040</td>\n",
       "      <td>562</td>\n",
       "      <td>5</td>\n",
       "      <td>956704746</td>\n",
       "    </tr>\n",
       "    <tr>\n",
       "      <th>1000207</th>\n",
       "      <td>6040</td>\n",
       "      <td>1096</td>\n",
       "      <td>4</td>\n",
       "      <td>956715648</td>\n",
       "    </tr>\n",
       "    <tr>\n",
       "      <th>1000208</th>\n",
       "      <td>6040</td>\n",
       "      <td>1097</td>\n",
       "      <td>4</td>\n",
       "      <td>956715569</td>\n",
       "    </tr>\n",
       "  </tbody>\n",
       "</table>\n",
       "<p>1000209 rows × 4 columns</p>\n",
       "</div>"
      ],
      "text/plain": [
       "            0     1  2          3\n",
       "0           1  1193  5  978300760\n",
       "1           1   661  3  978302109\n",
       "2           1   914  3  978301968\n",
       "3           1  3408  4  978300275\n",
       "4           1  2355  5  978824291\n",
       "...       ...   ... ..        ...\n",
       "1000204  6040  1091  1  956716541\n",
       "1000205  6040  1094  5  956704887\n",
       "1000206  6040   562  5  956704746\n",
       "1000207  6040  1096  4  956715648\n",
       "1000208  6040  1097  4  956715569\n",
       "\n",
       "[1000209 rows x 4 columns]"
      ]
     },
     "execution_count": 5,
     "metadata": {},
     "output_type": "execute_result"
    }
   ],
   "source": [
    "ratings"
   ]
  },
  {
   "cell_type": "code",
   "execution_count": null,
   "id": "2142974c",
   "metadata": {},
   "outputs": [],
   "source": [
    "# Preparing the training and test set"
   ]
  },
  {
   "cell_type": "code",
   "execution_count": 6,
   "id": "0f459241",
   "metadata": {},
   "outputs": [
    {
     "name": "stdout",
     "output_type": "stream",
     "text": [
      "         1   1.1  5  874965758\n",
      "0        1     2  3  876893171\n",
      "1        1     3  4  878542960\n",
      "2        1     4  3  876893119\n",
      "3        1     5  3  889751712\n",
      "4        1     7  4  875071561\n",
      "...    ...   ... ..        ...\n",
      "79994  943  1067  2  875501756\n",
      "79995  943  1074  4  888640250\n",
      "79996  943  1188  3  888640250\n",
      "79997  943  1228  3  888640275\n",
      "79998  943  1330  3  888692465\n",
      "\n",
      "[79999 rows x 4 columns]\n",
      "         1     6  5  887431973\n",
      "0        1    10  3  875693118\n",
      "1        1    12  5  878542960\n",
      "2        1    14  5  874965706\n",
      "3        1    17  3  875073198\n",
      "4        1    20  4  887431883\n",
      "...    ...   ... ..        ...\n",
      "19994  458   648  4  886395899\n",
      "19995  458  1101  4  886397931\n",
      "19996  459   934  3  879563639\n",
      "19997  460    10  3  882912371\n",
      "19998  462   682  5  886365231\n",
      "\n",
      "[19999 rows x 4 columns]\n"
     ]
    }
   ],
   "source": [
    "training_set = pd.read_csv('ml-100k/u1.base', delimiter = '\\t')\n",
    "print(training_set)\n",
    "training_set = np.array(training_set, dtype = 'int')  # converting the dataframe into a numpy array\n",
    "test_set = pd.read_csv('ml-100k/u1.test', delimiter = '\\t')\n",
    "print(test_set)\n",
    "test_set = np.array(test_set, dtype = 'int')  # converting the dataframe into a numpy array"
   ]
  },
  {
   "cell_type": "code",
   "execution_count": null,
   "id": "840ec170",
   "metadata": {},
   "outputs": [],
   "source": [
    "# Getting the total number of users and movies"
   ]
  },
  {
   "cell_type": "code",
   "execution_count": 7,
   "id": "cb148aad",
   "metadata": {},
   "outputs": [],
   "source": [
    "nb_users = int(max(max(training_set[:, 0]), max(test_set[:, 0])))\n",
    "nb_movies = int(max(max(training_set[:, 1]), max(test_set[:, 1])))"
   ]
  },
  {
   "cell_type": "code",
   "execution_count": 8,
   "id": "3046aa88",
   "metadata": {},
   "outputs": [
    {
     "name": "stdout",
     "output_type": "stream",
     "text": [
      "Total users:  943\n",
      "Total movies:  1682\n"
     ]
    }
   ],
   "source": [
    "print(\"Total users: \",nb_users)\n",
    "print(\"Total movies: \",nb_movies)"
   ]
  },
  {
   "cell_type": "code",
   "execution_count": null,
   "id": "d3ca9952",
   "metadata": {},
   "outputs": [],
   "source": [
    "# Converting the data into a matrix with 'users' in rows and 'movies' in columns (usual structure for any deep learning model)\n",
    "# We will create a list of list containing 943 lists of users where each list contains the ratings of 1682 movies"
   ]
  },
  {
   "cell_type": "code",
   "execution_count": 9,
   "id": "5737a296",
   "metadata": {},
   "outputs": [],
   "source": [
    "def convert(data):\n",
    "    new_data = []\n",
    "    for id_users in range(1, nb_users+1):\n",
    "        id_movies = data[:, 1][data[:, 0] == id_users]  # extracts all the movie ids of the current user\n",
    "        id_ratings = data[:, 2][data[:, 0] == id_users] # extracts all the ratings of the current user\n",
    "        ratings = np.zeros(nb_movies)  # initialising a list of 1682 0s\n",
    "        ratings[id_movies - 1] = id_ratings  # list belonging to current user gets updated by ratings of movies which are rated by the current user. Movies which are not rated by current user are rated as 0.\n",
    "        new_data.append(list(ratings))  # adding the list belonging to single user to the list of list. This way 943 lists get added to list of list\n",
    "    return new_data"
   ]
  },
  {
   "cell_type": "code",
   "execution_count": 10,
   "id": "c3bd6ad2",
   "metadata": {},
   "outputs": [],
   "source": [
    "training_set = convert(training_set)  \n",
    "test_set = convert(test_set)"
   ]
  },
  {
   "cell_type": "code",
   "execution_count": null,
   "id": "e78a7a52",
   "metadata": {},
   "outputs": [],
   "source": [
    "# Converting the data into Torch tensors"
   ]
  },
  {
   "cell_type": "code",
   "execution_count": 11,
   "id": "6abaf031",
   "metadata": {},
   "outputs": [],
   "source": [
    "training_set = torch.FloatTensor(training_set)\n",
    "test_set = torch.FloatTensor(test_set)"
   ]
  },
  {
   "cell_type": "code",
   "execution_count": null,
   "id": "695fa177",
   "metadata": {},
   "outputs": [],
   "source": [
    "# Converting the ratings into binary ratings 1 (Liked) or 0 (Not Liked)  [We are doing this step because in this particular problem we are trying to predict whether a movie shall be liked or not liked by a user]"
   ]
  },
  {
   "cell_type": "code",
   "execution_count": 12,
   "id": "844cc4a1",
   "metadata": {},
   "outputs": [],
   "source": [
    "training_set[training_set == 0] = -1 # converting all the movie ratings that were not rated by a particular user from 0 to -1, as now 0 (Not Liked) has a different significance\n",
    "\n",
    "# converting the movies having ratings 1 and 2 to '0'(Not Liked) and movies having ratings 3,4,5 to '1'(Liked)\n",
    "training_set[training_set == 1] = 0  \n",
    "training_set[training_set == 2] = 0\n",
    "training_set[training_set >= 3] = 1"
   ]
  },
  {
   "cell_type": "code",
   "execution_count": 13,
   "id": "bf72cfd8",
   "metadata": {},
   "outputs": [],
   "source": [
    "test_set[test_set == 0] = -1 # converting all the movie ratings that were not rated by a particular user from 0 to -1, as now 0 (Not Liked) has a different significance\n",
    "\n",
    "# converting the movies having ratings 1 and 2 to '0'(Not Liked) and movies having ratings 3,4,5 to '1'(Liked)\n",
    "test_set[test_set == 1] = 0  \n",
    "test_set[test_set == 2] = 0\n",
    "test_set[test_set >= 3] = 1"
   ]
  },
  {
   "cell_type": "code",
   "execution_count": null,
   "id": "49fcf016",
   "metadata": {},
   "outputs": [],
   "source": [
    "# Creating the architecture of the Neural Network (Restricted Boltzmann Machine model)"
   ]
  },
  {
   "cell_type": "code",
   "execution_count": 21,
   "id": "fe271aaa",
   "metadata": {},
   "outputs": [],
   "source": [
    "class RBM():\n",
    "    def __init__(self, nv, nh):\n",
    "        self.W = torch.randn(nh, nv)  # initializing random weights to the tensor of size nh(num of hidden nodes) and nv(num of visible nodes)\n",
    "        self.a = torch.randn(1, nh)  # intializing the bias for hidden nodes\n",
    "        self.b = torch.randn(1, nv)  # intializing the bias for visible nodes\n",
    "    def sample_h(self, x):        # calculating P(H=1/V)\n",
    "        wx = torch.mm(x, self.W.t())  # product of weights and visible nodes(x)\n",
    "        activation = wx + self.a.expand_as(wx)\n",
    "        p_h_given_v = torch.sigmoid(activation)\n",
    "        return p_h_given_v, torch.bernoulli(p_h_given_v)\n",
    "    def sample_v(self, y):      # calculating P(V=1/H)\n",
    "        wy = torch.mm(y, self.W)    # product of weights and hidden nodes(y)\n",
    "        activation = wy + self.b.expand_as(wy)\n",
    "        p_v_given_h = torch.sigmoid(activation)\n",
    "        return p_v_given_h, torch.bernoulli(p_v_given_h)\n",
    "    def train(self, v0, vk, ph0, phk):  # Contrastive Divergence for 'k' steps\n",
    "        self.W = self.W + (torch.mm(v0.t(), ph0) - torch.mm(vk.t(), phk)).t()\n",
    "        self.b = self.b + torch.sum((v0 - vk), 0)\n",
    "        self.a = self.a + torch.sum((ph0 - phk), 0)\n",
    "    def predict(self, x):  # x is no.of visible nodes\n",
    "        _,h = self.sample_h(x)\n",
    "        _,v = self.sample_v(h)\n",
    "        return v\n",
    "# Here 'v0' is the initial node which takes the original ratings and remains same.\n",
    "# Here 'vk' is the visible node which changes after every step of 'k' steps when weights gets adjusted by train() of Contrastive Divergence.\n",
    "# Final value of 'vk' is the value after last step of contrastive divergence. It is the predicted value.\n",
    "# 'v0' is the actual value."
   ]
  },
  {
   "cell_type": "code",
   "execution_count": 22,
   "id": "4b8cf795",
   "metadata": {},
   "outputs": [],
   "source": [
    "nv = len(training_set[0])  # no.of features in visible layer = Number of movies = no.of features in first row of training set\n",
    "nh = 100   # no.of features in hidden layer (can be taken anything)\n",
    "batch_size = 100    # can be taken anything\n",
    "rbm = RBM(nv, nh)"
   ]
  },
  {
   "cell_type": "code",
   "execution_count": null,
   "id": "c75087c5",
   "metadata": {},
   "outputs": [],
   "source": [
    "# Training the RBM"
   ]
  },
  {
   "cell_type": "code",
   "execution_count": 23,
   "id": "d9143a3b",
   "metadata": {},
   "outputs": [
    {
     "name": "stdout",
     "output_type": "stream",
     "text": [
      "epoch: 1 loss: tensor(0.3750)\n",
      "epoch: 2 loss: tensor(0.2515)\n",
      "epoch: 3 loss: tensor(0.2474)\n",
      "epoch: 4 loss: tensor(0.2513)\n",
      "epoch: 5 loss: tensor(0.2477)\n",
      "epoch: 6 loss: tensor(0.2496)\n",
      "epoch: 7 loss: tensor(0.2465)\n",
      "epoch: 8 loss: tensor(0.2478)\n",
      "epoch: 9 loss: tensor(0.2500)\n",
      "epoch: 10 loss: tensor(0.2464)\n"
     ]
    }
   ],
   "source": [
    "nb_epoch = 10\n",
    "for epoch in range(1, nb_epoch+1):\n",
    "    train_loss = 0\n",
    "    s = 0.  # counter which is used to normalise the train_loss\n",
    "    for id_user in range(0, nb_users - batch_size, batch_size):\n",
    "        vk = training_set[id_user: id_user+batch_size]  # creating a batch of 100 users\n",
    "        v0 = training_set[id_user: id_user+batch_size]\n",
    "        ph0,_ = rbm.sample_h(v0)  # getting the first value of the return,i.e, p_h_given_v\n",
    "        for k in range(10):   # Taking 'k' steps as 10\n",
    "            _,hk = rbm.sample_h(vk)\n",
    "            _,vk = rbm.sample_v(hk)\n",
    "            vk[v0<0] = v0[v0<0]  # freezing the visible nodes containing -1 rating (which are not rated by users). We don't want these visible nodes to be included in training. So we freeze these nodes.\n",
    "        phk,_ = rbm.sample_h(vk)\n",
    "        rbm.train(v0, vk, ph0, phk)\n",
    "        train_loss += torch.mean(torch.abs(v0[v0>=0] - vk[v0>=0]))\n",
    "        s += 1.\n",
    "    print('epoch: '+str(epoch)+' loss: '+str(train_loss/s))"
   ]
  },
  {
   "cell_type": "code",
   "execution_count": null,
   "id": "931a41d6",
   "metadata": {},
   "outputs": [],
   "source": [
    "# Testing the RBM"
   ]
  },
  {
   "cell_type": "code",
   "execution_count": 24,
   "id": "66043cbd",
   "metadata": {},
   "outputs": [
    {
     "name": "stdout",
     "output_type": "stream",
     "text": [
      "Test loss: tensor(0.2633)\n"
     ]
    }
   ],
   "source": [
    "test_loss = 0\n",
    "s = 0.  # counter which is used to normalise the train_loss\n",
    "for id_user in range(nb_users):\n",
    "    v = training_set[id_user: id_user+1]  # training set is used as an input to activate the hidden neurons of the RBM so that it can predict the test set results\n",
    "    vt = test_set[id_user: id_user+1]\n",
    "    if len(vt[vt>=0]) > 0:  # eliminating the -1 ratings (ratings which never happened)\n",
    "        _,h = rbm.sample_h(v)   # We are taking 1 step as training is already done and now we are evaluating the model on the test set.\n",
    "        _,v = rbm.sample_v(h)\n",
    "        test_loss += torch.mean(torch.abs(vt[vt>=0] - v[vt>=0]))\n",
    "        s += 1.\n",
    "print('Test loss: '+str(test_loss/s))"
   ]
  },
  {
   "cell_type": "code",
   "execution_count": null,
   "id": "be9fc189",
   "metadata": {},
   "outputs": [],
   "source": [
    "# Making Predictions on the movies which have not been seen (or rated) by a user (i.e, for movies having rating -1 for a particular user)"
   ]
  },
  {
   "cell_type": "code",
   "execution_count": null,
   "id": "dfa7b22d",
   "metadata": {},
   "outputs": [],
   "source": [
    "# Taking a random user from test data and taking the whole list of ratings of movies of that user and converting it into a 2d Tensor"
   ]
  },
  {
   "cell_type": "code",
   "execution_count": 26,
   "id": "cd2a4566",
   "metadata": {},
   "outputs": [],
   "source": [
    "user_id = 23\n",
    "user_input = Variable(test_set[user_id-1]).unsqueeze(0)\n",
    "prediction = rbm.predict(user_input)\n",
    "prediction = prediction.data.numpy()"
   ]
  },
  {
   "cell_type": "code",
   "execution_count": null,
   "id": "fd146c0f",
   "metadata": {},
   "outputs": [],
   "source": [
    "# Stack the actual input and our predicted recommendation as one numpy array (Just for comparing the results)"
   ]
  },
  {
   "cell_type": "code",
   "execution_count": 28,
   "id": "c9bc20ec",
   "metadata": {},
   "outputs": [
    {
     "name": "stdout",
     "output_type": "stream",
     "text": [
      "[[ 1. -1. -1. ... -1. -1. -1.]\n",
      " [ 1.  1.  0. ...  0.  1.  0.]]\n"
     ]
    }
   ],
   "source": [
    "input_vs_prediction = np.vstack([user_input, prediction])\n",
    "print(input_vs_prediction)"
   ]
  },
  {
   "cell_type": "code",
   "execution_count": null,
   "id": "94e5d8f2",
   "metadata": {},
   "outputs": [],
   "source": []
  }
 ],
 "metadata": {
  "kernelspec": {
   "display_name": "Python 3",
   "language": "python",
   "name": "python3"
  },
  "language_info": {
   "codemirror_mode": {
    "name": "ipython",
    "version": 3
   },
   "file_extension": ".py",
   "mimetype": "text/x-python",
   "name": "python",
   "nbconvert_exporter": "python",
   "pygments_lexer": "ipython3",
   "version": "3.6.10"
  }
 },
 "nbformat": 4,
 "nbformat_minor": 5
}
